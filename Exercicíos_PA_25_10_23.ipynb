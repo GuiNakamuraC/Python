{
  "nbformat": 4,
  "nbformat_minor": 0,
  "metadata": {
    "colab": {
      "provenance": [],
      "authorship_tag": "ABX9TyNcym9+naygblz2Int4UNX4",
      "include_colab_link": true
    },
    "kernelspec": {
      "name": "python3",
      "display_name": "Python 3"
    },
    "language_info": {
      "name": "python"
    }
  },
  "cells": [
    {
      "cell_type": "markdown",
      "metadata": {
        "id": "view-in-github",
        "colab_type": "text"
      },
      "source": [
        "<a href=\"https://colab.research.google.com/github/GuiNakamuraC/Python/blob/main/Exercic%C3%ADos_PA_25_10_23.ipynb\" target=\"_parent\"><img src=\"https://colab.research.google.com/assets/colab-badge.svg\" alt=\"Open In Colab\"/></a>"
      ]
    },
    {
      "cell_type": "markdown",
      "source": [
        "1. Faça um algoritmo que escreva na tela os números de um número inicial a um número final. Os números inicial e final devem ser informados pelo usuário."
      ],
      "metadata": {
        "id": "qAULUGziNFU5"
      }
    },
    {
      "cell_type": "code",
      "source": [
        "num_inicio = int(input(\"Digite o número inicial: \"))\n",
        "num_final = int(input(\"Digite o número final: \"))\n",
        "while num_inicio <= num_final:\n",
        "    print(num_inicio)\n",
        "    num_inicio += 1"
      ],
      "metadata": {
        "colab": {
          "base_uri": "https://localhost:8080/"
        },
        "id": "-YmLdB8-NKNv",
        "outputId": "a1b497aa-d92b-46db-e7a4-52a2f1802954"
      },
      "execution_count": 6,
      "outputs": [
        {
          "output_type": "stream",
          "name": "stdout",
          "text": [
            "Digite o número inicial: 1\n",
            "Digite o número final: 10\n",
            "1\n",
            "2\n",
            "3\n",
            "4\n",
            "5\n",
            "6\n",
            "7\n",
            "8\n",
            "9\n",
            "10\n"
          ]
        }
      ]
    },
    {
      "cell_type": "markdown",
      "source": [
        "2.Escrever um algoritmo que imprima a tabuada de um número informado pelo usuário."
      ],
      "metadata": {
        "id": "QSMI00FeOAAw"
      }
    },
    {
      "cell_type": "code",
      "source": [
        "num = int(input(\"Digite o número que deseja:\"))\n",
        "for i in range(1, 11):\n",
        "  print(f\"{num} x {i} = {num * i}\")"
      ],
      "metadata": {
        "colab": {
          "base_uri": "https://localhost:8080/"
        },
        "id": "ZOqE5EXZOJwW",
        "outputId": "4a32ff75-eb4e-4990-c83c-aa58ce536a36"
      },
      "execution_count": 11,
      "outputs": [
        {
          "output_type": "stream",
          "name": "stdout",
          "text": [
            "Digite o número que deseja:2\n",
            "2 x 1 = 2\n",
            "2 x 2 = 4\n",
            "2 x 3 = 6\n",
            "2 x 4 = 8\n",
            "2 x 5 = 10\n",
            "2 x 6 = 12\n",
            "2 x 7 = 14\n",
            "2 x 8 = 16\n",
            "2 x 9 = 18\n",
            "2 x 10 = 20\n"
          ]
        }
      ]
    },
    {
      "cell_type": "markdown",
      "source": [
        "3.Escrever um algoritmo que gera e escreve os números ímpares entre 100 e 200."
      ],
      "metadata": {
        "id": "-nVuk1GoPsNG"
      }
    },
    {
      "cell_type": "code",
      "source": [
        "for impar in range(101, 200, 2):\n",
        "    print(impar)"
      ],
      "metadata": {
        "colab": {
          "base_uri": "https://localhost:8080/"
        },
        "id": "Y7Ti4PoNPvXv",
        "outputId": "08eb69de-efdd-492f-af81-35489a98de3d"
      },
      "execution_count": 13,
      "outputs": [
        {
          "output_type": "stream",
          "name": "stdout",
          "text": [
            "101\n",
            "103\n",
            "105\n",
            "107\n",
            "109\n",
            "111\n",
            "113\n",
            "115\n",
            "117\n",
            "119\n",
            "121\n",
            "123\n",
            "125\n",
            "127\n",
            "129\n",
            "131\n",
            "133\n",
            "135\n",
            "137\n",
            "139\n",
            "141\n",
            "143\n",
            "145\n",
            "147\n",
            "149\n",
            "151\n",
            "153\n",
            "155\n",
            "157\n",
            "159\n",
            "161\n",
            "163\n",
            "165\n",
            "167\n",
            "169\n",
            "171\n",
            "173\n",
            "175\n",
            "177\n",
            "179\n",
            "181\n",
            "183\n",
            "185\n",
            "187\n",
            "189\n",
            "191\n",
            "193\n",
            "195\n",
            "197\n",
            "199\n"
          ]
        }
      ]
    },
    {
      "cell_type": "markdown",
      "source": [
        "4. Faça um programa que solicite cod da conta(exemplo: 122345) e senha(exemplo: 1234), o programa deve verificar o usuário e senha e tentar até três vezes para receber a senha correta, caso contrario o cartão é cancelado se digitar errado 3 vezes."
      ],
      "metadata": {
        "id": "NUgvHSXBR8K8"
      }
    },
    {
      "cell_type": "code",
      "source": [
        "cod = \"12345\"\n",
        "sen = \"1234\"\n",
        "tentativas = 0\n",
        "while tentativas < 3:\n",
        "    cod_dig = input(\"Digite o código da conta: \")\n",
        "    sen_dig = input(\"Digite a senha: \")\n",
        "    if cod_dig == cod and sen_dig == sen:\n",
        "        print(\"Acesso concedido. Bem-vindo!\")\n",
        "        break\n",
        "    else:\n",
        "        tentativas += 1\n",
        "        if tentativas < 3:\n",
        "            print(\"Tentativa incorreta. Tente novamente.\")\n",
        "        else:\n",
        "            print(\"Cartão cancelado. Tente novamente mais tarde.\")"
      ],
      "metadata": {
        "colab": {
          "base_uri": "https://localhost:8080/"
        },
        "id": "Dnu66XY5SELA",
        "outputId": "e3d9a872-da0c-4e52-827b-564b58df76eb"
      },
      "execution_count": 18,
      "outputs": [
        {
          "output_type": "stream",
          "name": "stdout",
          "text": [
            "Digite o código da conta: 12345\n",
            "Digite a senha: 11234\n",
            "Acesso concedido. Bem-vindo!\n"
          ]
        }
      ]
    },
    {
      "cell_type": "markdown",
      "source": [
        "5. Depois do Código anterior, caso o usuário digite o usuário e senha corretos o programa deve da a oportunidade do usuario escolher a operação a ser feita: Saque, depósito ou ver saldo."
      ],
      "metadata": {
        "id": "_bVsrtqRVCvy"
      }
    },
    {
      "cell_type": "code",
      "source": [
        "saldo = 1000\n",
        "\n",
        "cod = \"12345\"\n",
        "sen = \"1234\"\n",
        "\n",
        "tentativas = 0\n",
        "\n",
        "while tentativas < 3:\n",
        "    codigo_digitado = input(\"Digite o código da conta: \")\n",
        "    senha_digitada = input(\"Digite a senha: \")\n",
        "\n",
        "    if codigo_digitado == cod and senha_digitada == sen:\n",
        "        print(\"Acesso concedido. Bem-vindo!\")\n",
        "\n",
        "        while True:\n",
        "            print(\"\\nEscolha a operação a ser feita:\")\n",
        "            print(\"1. Saque\")\n",
        "            print(\"2. Depósito\")\n",
        "            print(\"3. Ver saldo\")\n",
        "            print(\"4. Sair\")\n",
        "\n",
        "            operacao = input(\"Digite o número da operação: \")\n",
        "\n",
        "            if operacao == \"1\":\n",
        "                valor_s = float(input(\"Digite o valor a ser sacado: \"))\n",
        "                if valor_s <= saldo:\n",
        "                    saldo -= valor_s\n",
        "                    print(f\"Saque de R${valor_s} realizado. Saldo restante: R${saldo}\")\n",
        "                else:\n",
        "                    print(\"Saldo insuficiente.\")\n",
        "            elif operacao == \"2\":\n",
        "                valor_d = float(input(\"Digite o valor a ser depositado: \"))\n",
        "                saldo += valor_d\n",
        "                print(f\"Depósito de R${valor_d} realizado. Saldo atual: R${saldo}\")\n",
        "            elif operacao == \"3\":\n",
        "                print(f\"Seu saldo é de: R${saldo}\")\n",
        "            elif operacao == \"4\":\n",
        "                print(\"Saindo...\")\n",
        "                break\n",
        "            else:\n",
        "                print(\"Opção inválida. Por favor, escolha uma opção válida.\")\n",
        "        break\n",
        "    else:\n",
        "        tentativas += 1\n",
        "        if tentativas < 3:\n",
        "            print(\"Tentativa incorreta. Tente novamente.\")\n",
        "        else:\n",
        "            print(\"Cartão cancelado. Tente novamente mais tarde.\")"
      ],
      "metadata": {
        "colab": {
          "base_uri": "https://localhost:8080/"
        },
        "id": "-lkuopDkVHe4",
        "outputId": "d94d3950-1047-4859-e5d9-9c4b3aa4084d"
      },
      "execution_count": 24,
      "outputs": [
        {
          "output_type": "stream",
          "name": "stdout",
          "text": [
            "Digite o código da conta: 12345\n",
            "Digite a senha: 1234\n",
            "Acesso concedido. Bem-vindo!\n",
            "\n",
            "Escolha a operação a ser feita:\n",
            "1. Saque\n",
            "2. Depósito\n",
            "3. Ver saldo\n",
            "4. Sair\n",
            "Digite o número da operação: 3\n",
            "Seu saldo é de: R$1000\n",
            "\n",
            "Escolha a operação a ser feita:\n",
            "1. Saque\n",
            "2. Depósito\n",
            "3. Ver saldo\n",
            "4. Sair\n",
            "Digite o número da operação: 4\n",
            "Saindo...\n"
          ]
        }
      ]
    },
    {
      "cell_type": "markdown",
      "source": [
        "6. Escreva um algoritmo que leia valores inteiros e encontre o maior e o menor deles. Termine a leitura se o usuário digitar zero (0)."
      ],
      "metadata": {
        "id": "ZzwnPU-cX_TV"
      }
    },
    {
      "cell_type": "code",
      "source": [
        "maior = float('-inf')\n",
        "menor = float('inf')\n",
        "\n",
        "while True:\n",
        "    valor = int(input(\"Digite um valor inteiro (0 para sair): \"))\n",
        "    if valor == 0:\n",
        "        break\n",
        "    if valor > maior:\n",
        "        maior = valor\n",
        "    if valor < menor:\n",
        "        menor = valor\n",
        "\n",
        "if maior != float('-inf') and menor != float('inf'):\n",
        "    print(f\"O maior valor é {maior} e o menor valor é {menor}.\")\n",
        "else:\n",
        "    print(\"Nenhum valor foi inserido.\")"
      ],
      "metadata": {
        "colab": {
          "base_uri": "https://localhost:8080/"
        },
        "id": "TbcEKC1wYCTc",
        "outputId": "b3f8c8a6-8efa-46d9-be18-2c0577f9c64a"
      },
      "execution_count": 25,
      "outputs": [
        {
          "output_type": "stream",
          "name": "stdout",
          "text": [
            "Digite um valor inteiro (0 para sair): 5\n",
            "Digite um valor inteiro (0 para sair): 4\n",
            "Digite um valor inteiro (0 para sair): 10\n",
            "Digite um valor inteiro (0 para sair): 11\n",
            "Digite um valor inteiro (0 para sair): -4\n",
            "Digite um valor inteiro (0 para sair): -10\n",
            "Digite um valor inteiro (0 para sair): 0\n",
            "O maior valor é 11 e o menor valor é -10.\n"
          ]
        }
      ]
    }
  ]
}