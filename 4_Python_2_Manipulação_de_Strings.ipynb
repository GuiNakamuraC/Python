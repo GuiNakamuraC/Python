{
  "nbformat": 4,
  "nbformat_minor": 0,
  "metadata": {
    "anaconda-cloud": {},
    "kernelspec": {
      "display_name": "Python 3",
      "language": "python",
      "name": "python3"
    },
    "language_info": {
      "codemirror_mode": {
        "name": "ipython",
        "version": 3
      },
      "file_extension": ".py",
      "mimetype": "text/x-python",
      "name": "python",
      "nbconvert_exporter": "python",
      "pygments_lexer": "ipython3",
      "version": "3.8.5"
    },
    "colab": {
      "provenance": [],
      "include_colab_link": true
    }
  },
  "cells": [
    {
      "cell_type": "markdown",
      "metadata": {
        "id": "view-in-github",
        "colab_type": "text"
      },
      "source": [
        "<a href=\"https://colab.research.google.com/github/GuiNakamuraC/Python/blob/main/4_Python_2_Manipula%C3%A7%C3%A3o_de_Strings.ipynb\" target=\"_parent\"><img src=\"https://colab.research.google.com/assets/colab-badge.svg\" alt=\"Open In Colab\"/></a>"
      ]
    },
    {
      "cell_type": "markdown",
      "metadata": {
        "id": "dNXwjNNBmJTv"
      },
      "source": [
        "# <font color='blue'>Manipulação de Strings</font>\n",
        "\n"
      ]
    },
    {
      "cell_type": "markdown",
      "metadata": {
        "id": "Bmzfk0ZkmJT7"
      },
      "source": [
        "## Strings"
      ]
    },
    {
      "cell_type": "markdown",
      "metadata": {
        "id": "bU84UuLMmJT9"
      },
      "source": [
        "### Criando uma String\n",
        "Para criar uma string em Python você pode usar aspas simples ou duplas. Por exemplo:"
      ]
    },
    {
      "cell_type": "code",
      "metadata": {
        "id": "4rB5fxOEmJT_",
        "outputId": "6b605f8d-8541-4a0d-9edf-baf7aa842e41",
        "colab": {
          "base_uri": "https://localhost:8080/",
          "height": 35
        }
      },
      "source": [
        "# Uma única palavra\n",
        "'Oi'"
      ],
      "execution_count": null,
      "outputs": [
        {
          "output_type": "execute_result",
          "data": {
            "text/plain": [
              "'Oi'"
            ],
            "application/vnd.google.colaboratory.intrinsic+json": {
              "type": "string"
            }
          },
          "metadata": {},
          "execution_count": 4
        }
      ]
    },
    {
      "cell_type": "code",
      "metadata": {
        "id": "j_2YUcQKmJUE",
        "outputId": "b804390c-1b1d-47cf-e786-b4560e7f719d",
        "colab": {
          "base_uri": "https://localhost:8080/",
          "height": 35
        }
      },
      "source": [
        "# Uma frase\n",
        "'Criando uma string em Python'"
      ],
      "execution_count": null,
      "outputs": [
        {
          "output_type": "execute_result",
          "data": {
            "text/plain": [
              "'Criando uma string em Python'"
            ],
            "application/vnd.google.colaboratory.intrinsic+json": {
              "type": "string"
            }
          },
          "metadata": {},
          "execution_count": 5
        }
      ]
    },
    {
      "cell_type": "code",
      "metadata": {
        "id": "fS-AgwiemJUG",
        "outputId": "be066dbf-e683-4416-d5e9-86f500569ebc",
        "colab": {
          "base_uri": "https://localhost:8080/",
          "height": 35
        }
      },
      "source": [
        "# Podemos usar aspas duplas\n",
        "\"Podemos usar aspas duplas ou simples para strings em Python\""
      ],
      "execution_count": null,
      "outputs": [
        {
          "output_type": "execute_result",
          "data": {
            "text/plain": [
              "'Podemos usar aspas duplas ou simples para strings em Python'"
            ],
            "application/vnd.google.colaboratory.intrinsic+json": {
              "type": "string"
            }
          },
          "metadata": {},
          "execution_count": 7
        }
      ]
    },
    {
      "cell_type": "code",
      "metadata": {
        "id": "7TFfjuRxmJUH",
        "outputId": "47052339-546d-437e-817f-95c1190d9050",
        "colab": {
          "base_uri": "https://localhost:8080/",
          "height": 35
        }
      },
      "source": [
        "# Você pode combinar aspas duplas e simples\n",
        "\"Testando strings em 'Python'\""
      ],
      "execution_count": null,
      "outputs": [
        {
          "output_type": "execute_result",
          "data": {
            "text/plain": [
              "\"Testando strings em 'Python'\""
            ],
            "application/vnd.google.colaboratory.intrinsic+json": {
              "type": "string"
            }
          },
          "metadata": {},
          "execution_count": 8
        }
      ]
    },
    {
      "cell_type": "markdown",
      "metadata": {
        "id": "KWuD6mE_mJUK"
      },
      "source": [
        "### Imprimindo uma String"
      ]
    },
    {
      "cell_type": "code",
      "metadata": {
        "id": "PL8v8VT8mJUL",
        "outputId": "8d22e9da-b198-4c3e-86d2-a10aa2d943ec",
        "colab": {
          "base_uri": "https://localhost:8080/"
        }
      },
      "source": [
        "print ('Testando Strings em Python')"
      ],
      "execution_count": null,
      "outputs": [
        {
          "output_type": "stream",
          "name": "stdout",
          "text": [
            "Testando Strings em Python\n"
          ]
        }
      ]
    },
    {
      "cell_type": "code",
      "metadata": {
        "id": "RplK9VzUmJUN",
        "outputId": "0e2edcc9-4ce9-45c5-d904-8edf1d5ca40d",
        "colab": {
          "base_uri": "https://localhost:8080/"
        }
      },
      "source": [
        "print ('Testando \\nStrings \\nem \\nPython')"
      ],
      "execution_count": null,
      "outputs": [
        {
          "output_type": "stream",
          "name": "stdout",
          "text": [
            "Testando \n",
            "Strings \n",
            "em \n",
            "Python\n"
          ]
        }
      ]
    },
    {
      "cell_type": "code",
      "metadata": {
        "id": "42sCGaV0mJUP",
        "outputId": "ecc6ace2-0a33-477f-d698-13cba575e51c",
        "colab": {
          "base_uri": "https://localhost:8080/"
        }
      },
      "source": [
        "print ('\\n')"
      ],
      "execution_count": null,
      "outputs": [
        {
          "output_type": "stream",
          "name": "stdout",
          "text": [
            "\n",
            "\n"
          ]
        }
      ]
    },
    {
      "cell_type": "markdown",
      "metadata": {
        "id": "KmOWhBzkmJUQ"
      },
      "source": [
        "### Indexando Strings"
      ]
    },
    {
      "cell_type": "code",
      "metadata": {
        "id": "xBKueDbSmJUT"
      },
      "source": [
        "# Atribuindo uma string\n",
        "s = 'Etec MCM'"
      ],
      "execution_count": null,
      "outputs": []
    },
    {
      "cell_type": "code",
      "metadata": {
        "id": "3FFA2P3smJUU",
        "outputId": "0cee0cea-8caf-4960-f712-a37eebb7e535",
        "colab": {
          "base_uri": "https://localhost:8080/"
        }
      },
      "source": [
        "print(s)"
      ],
      "execution_count": null,
      "outputs": [
        {
          "output_type": "stream",
          "name": "stdout",
          "text": [
            "Etec MCM\n"
          ]
        }
      ]
    },
    {
      "cell_type": "code",
      "metadata": {
        "id": "1-3429BAmJUV",
        "outputId": "9cecec96-0b0c-49a3-efb8-8681bb6ea067",
        "colab": {
          "base_uri": "https://localhost:8080/",
          "height": 35
        }
      },
      "source": [
        "# Primeiro elemento da string.\n",
        "s[0]"
      ],
      "execution_count": null,
      "outputs": [
        {
          "output_type": "execute_result",
          "data": {
            "text/plain": [
              "'E'"
            ],
            "application/vnd.google.colaboratory.intrinsic+json": {
              "type": "string"
            }
          },
          "metadata": {},
          "execution_count": 16
        }
      ]
    },
    {
      "cell_type": "code",
      "metadata": {
        "id": "b3WVVN7RmJUX",
        "outputId": "af46a3a7-c72a-428f-f998-aeec7e161c26",
        "colab": {
          "base_uri": "https://localhost:8080/",
          "height": 35
        }
      },
      "source": [
        "s[1]"
      ],
      "execution_count": null,
      "outputs": [
        {
          "output_type": "execute_result",
          "data": {
            "text/plain": [
              "'t'"
            ],
            "application/vnd.google.colaboratory.intrinsic+json": {
              "type": "string"
            }
          },
          "metadata": {},
          "execution_count": 17
        }
      ]
    },
    {
      "cell_type": "code",
      "metadata": {
        "id": "0B75NgxfmJUY",
        "outputId": "f9f2d5dc-1273-4e16-ff69-1a0ac06516c6",
        "colab": {
          "base_uri": "https://localhost:8080/",
          "height": 35
        }
      },
      "source": [
        "s[2]"
      ],
      "execution_count": null,
      "outputs": [
        {
          "output_type": "execute_result",
          "data": {
            "text/plain": [
              "'e'"
            ],
            "application/vnd.google.colaboratory.intrinsic+json": {
              "type": "string"
            }
          },
          "metadata": {},
          "execution_count": 18
        }
      ]
    },
    {
      "cell_type": "code",
      "metadata": {
        "id": "08NxRkpRmJUZ",
        "outputId": "99a34d84-e915-4bf3-9273-57d6e7285bb0",
        "colab": {
          "base_uri": "https://localhost:8080/",
          "height": 35
        }
      },
      "source": [
        "s[3]"
      ],
      "execution_count": null,
      "outputs": [
        {
          "output_type": "execute_result",
          "data": {
            "text/plain": [
              "'c'"
            ],
            "application/vnd.google.colaboratory.intrinsic+json": {
              "type": "string"
            }
          },
          "metadata": {},
          "execution_count": 19
        }
      ]
    },
    {
      "cell_type": "markdown",
      "metadata": {
        "id": "DmRrJJMimJUa"
      },
      "source": [
        "Podemos usar um : para executar um slicing que faz a leitura de tudo até um ponto designado. Por exemplo:"
      ]
    },
    {
      "cell_type": "code",
      "metadata": {
        "id": "SOKh__vmmJUb",
        "outputId": "c780dd3b-9ef1-4d7c-8f5b-99a16ca34833",
        "colab": {
          "base_uri": "https://localhost:8080/",
          "height": 35
        }
      },
      "source": [
        "# Retorna todos os elementos da string, começando pela posição (lembre-se que Python começa a indexação pela posição 0),\n",
        "# até o fim da string.\n",
        "s[1:]"
      ],
      "execution_count": null,
      "outputs": [
        {
          "output_type": "execute_result",
          "data": {
            "text/plain": [
              "'tec MCM'"
            ],
            "application/vnd.google.colaboratory.intrinsic+json": {
              "type": "string"
            }
          },
          "metadata": {},
          "execution_count": 23
        }
      ]
    },
    {
      "cell_type": "code",
      "metadata": {
        "id": "EcN5KM0WmJUg",
        "outputId": "1ae8e341-fc75-402c-bdf7-d8bf85d56233",
        "colab": {
          "base_uri": "https://localhost:8080/",
          "height": 35
        }
      },
      "source": [
        "# A string original permanece inalterada\n",
        "s"
      ],
      "execution_count": null,
      "outputs": [
        {
          "output_type": "execute_result",
          "data": {
            "text/plain": [
              "'Etec MCM'"
            ],
            "application/vnd.google.colaboratory.intrinsic+json": {
              "type": "string"
            }
          },
          "metadata": {},
          "execution_count": 21
        }
      ]
    },
    {
      "cell_type": "code",
      "metadata": {
        "id": "RxaG6OovmJUh",
        "outputId": "f29bb139-ea01-4573-fdd3-5bba14c6d583",
        "colab": {
          "base_uri": "https://localhost:8080/",
          "height": 35
        }
      },
      "source": [
        "# Retorna tudo até a posição 4\n",
        "s[:4]"
      ],
      "execution_count": null,
      "outputs": [
        {
          "output_type": "execute_result",
          "data": {
            "text/plain": [
              "'Etec'"
            ],
            "application/vnd.google.colaboratory.intrinsic+json": {
              "type": "string"
            }
          },
          "metadata": {},
          "execution_count": 28
        }
      ]
    },
    {
      "cell_type": "code",
      "metadata": {
        "id": "wvbbmTxTmJUi",
        "outputId": "2265f594-38af-4483-ca49-efe6b543ea9a",
        "colab": {
          "base_uri": "https://localhost:8080/",
          "height": 35
        }
      },
      "source": [
        "s[:]"
      ],
      "execution_count": null,
      "outputs": [
        {
          "output_type": "execute_result",
          "data": {
            "text/plain": [
              "'Etec MCM'"
            ],
            "application/vnd.google.colaboratory.intrinsic+json": {
              "type": "string"
            }
          },
          "metadata": {},
          "execution_count": 29
        }
      ]
    },
    {
      "cell_type": "code",
      "metadata": {
        "id": "YPbjgTujmJUl",
        "outputId": "0bc1a7fa-abbf-429c-eb88-27dcea60208e",
        "colab": {
          "base_uri": "https://localhost:8080/",
          "height": 35
        }
      },
      "source": [
        "# Nós também podemos usar a indexação negativa e ler de trás para frente.\n",
        "s[-1]"
      ],
      "execution_count": null,
      "outputs": [
        {
          "output_type": "execute_result",
          "data": {
            "text/plain": [
              "'M'"
            ],
            "application/vnd.google.colaboratory.intrinsic+json": {
              "type": "string"
            }
          },
          "metadata": {},
          "execution_count": 34
        }
      ]
    },
    {
      "cell_type": "code",
      "metadata": {
        "id": "nPe8EZEemJUm",
        "outputId": "a439d983-dafb-43bb-f332-748277307914",
        "colab": {
          "base_uri": "https://localhost:8080/",
          "height": 35
        }
      },
      "source": [
        "# Retornar tudo, exceto a última letra\n",
        "s[:-1]"
      ],
      "execution_count": null,
      "outputs": [
        {
          "output_type": "execute_result",
          "data": {
            "text/plain": [
              "'Etec MC'"
            ],
            "application/vnd.google.colaboratory.intrinsic+json": {
              "type": "string"
            }
          },
          "metadata": {},
          "execution_count": 38
        }
      ]
    },
    {
      "cell_type": "markdown",
      "metadata": {
        "id": "DL__siqOmJUn"
      },
      "source": [
        "Nós também podemos usar a notação de índice e fatiar a string em pedaços específicos (o padrão é 1). Por exemplo, podemos usar dois pontos duas vezes em uma linha e, em seguida, um número que especifica a frequência para retornar elementos. Por exemplo:"
      ]
    },
    {
      "cell_type": "code",
      "metadata": {
        "id": "pLuph-8nmJUn",
        "outputId": "a37efa06-5c00-4ca9-b373-53bc910733a3",
        "colab": {
          "base_uri": "https://localhost:8080/",
          "height": 35
        }
      },
      "source": [
        "s[::1]"
      ],
      "execution_count": null,
      "outputs": [
        {
          "output_type": "execute_result",
          "data": {
            "text/plain": [
              "'Etec MCM'"
            ],
            "application/vnd.google.colaboratory.intrinsic+json": {
              "type": "string"
            }
          },
          "metadata": {},
          "execution_count": 46
        }
      ]
    },
    {
      "cell_type": "code",
      "metadata": {
        "id": "NcrNl7q9mJUo",
        "outputId": "13fcf2e8-eeef-42e0-acb1-f431810adc49",
        "colab": {
          "base_uri": "https://localhost:8080/",
          "height": 35
        }
      },
      "source": [
        "s[::2]"
      ],
      "execution_count": null,
      "outputs": [
        {
          "output_type": "execute_result",
          "data": {
            "text/plain": [
              "'Ee C'"
            ],
            "application/vnd.google.colaboratory.intrinsic+json": {
              "type": "string"
            }
          },
          "metadata": {},
          "execution_count": 43
        }
      ]
    },
    {
      "cell_type": "code",
      "metadata": {
        "id": "0kETnPcRmJUp",
        "outputId": "48a9486b-7074-4ffe-9d6b-82c2851c4cdd",
        "colab": {
          "base_uri": "https://localhost:8080/",
          "height": 35
        }
      },
      "source": [
        "s[::-1]"
      ],
      "execution_count": null,
      "outputs": [
        {
          "output_type": "execute_result",
          "data": {
            "text/plain": [
              "'MCM cetE'"
            ],
            "application/vnd.google.colaboratory.intrinsic+json": {
              "type": "string"
            }
          },
          "metadata": {},
          "execution_count": 44
        }
      ]
    },
    {
      "cell_type": "markdown",
      "metadata": {
        "id": "rX1TnHPBmJUq"
      },
      "source": [
        "### Propriedades de Strings"
      ]
    },
    {
      "cell_type": "code",
      "metadata": {
        "id": "LbobGCURmJUq",
        "outputId": "7d088d91-56bc-432d-e093-d9d1e1250866",
        "colab": {
          "base_uri": "https://localhost:8080/",
          "height": 35
        }
      },
      "source": [
        "s"
      ],
      "execution_count": null,
      "outputs": [
        {
          "output_type": "execute_result",
          "data": {
            "text/plain": [
              "'Etec MCM'"
            ],
            "application/vnd.google.colaboratory.intrinsic+json": {
              "type": "string"
            }
          },
          "metadata": {},
          "execution_count": 47
        }
      ]
    },
    {
      "cell_type": "code",
      "source": [
        "b = ['ETEC','Julio de Mesquita']"
      ],
      "metadata": {
        "id": "3dvbyuzlJder"
      },
      "execution_count": null,
      "outputs": []
    },
    {
      "cell_type": "code",
      "source": [
        "type(b)"
      ],
      "metadata": {
        "colab": {
          "base_uri": "https://localhost:8080/"
        },
        "id": "s58jGmjWJsp3",
        "outputId": "e8c4065b-9573-4f49-9aeb-90d65bcec6be"
      },
      "execution_count": null,
      "outputs": [
        {
          "output_type": "execute_result",
          "data": {
            "text/plain": [
              "list"
            ]
          },
          "metadata": {},
          "execution_count": 57
        }
      ]
    },
    {
      "cell_type": "code",
      "source": [
        "b[1] = 'MCM'"
      ],
      "metadata": {
        "id": "FtUPbJwWKJ6P"
      },
      "execution_count": null,
      "outputs": []
    },
    {
      "cell_type": "code",
      "source": [
        "b"
      ],
      "metadata": {
        "colab": {
          "base_uri": "https://localhost:8080/"
        },
        "id": "mH_chIXyKOnP",
        "outputId": "5327b785-ca27-47f5-a7e1-8a2ad8e29cea"
      },
      "execution_count": null,
      "outputs": [
        {
          "output_type": "execute_result",
          "data": {
            "text/plain": [
              "['ETEC', 'MCM']"
            ]
          },
          "metadata": {},
          "execution_count": 62
        }
      ]
    },
    {
      "cell_type": "code",
      "metadata": {
        "id": "_RtMc-FnmJUr",
        "outputId": "6c832bcd-a09e-4ad0-cbf3-860672ba24e4",
        "colab": {
          "base_uri": "https://localhost:8080/",
          "height": 193
        }
      },
      "source": [
        "# Alterando um caracter\n",
        "s[0] = 'x'"
      ],
      "execution_count": null,
      "outputs": [
        {
          "output_type": "error",
          "ename": "TypeError",
          "evalue": "ignored",
          "traceback": [
            "\u001b[0;31m---------------------------------------------------------------------------\u001b[0m",
            "\u001b[0;31mTypeError\u001b[0m                                 Traceback (most recent call last)",
            "\u001b[0;32m<ipython-input-55-3bfedcfbac44>\u001b[0m in \u001b[0;36m<cell line: 2>\u001b[0;34m()\u001b[0m\n\u001b[1;32m      1\u001b[0m \u001b[0;31m# Alterando um caracter\u001b[0m\u001b[0;34m\u001b[0m\u001b[0;34m\u001b[0m\u001b[0m\n\u001b[0;32m----> 2\u001b[0;31m \u001b[0ms\u001b[0m\u001b[0;34m[\u001b[0m\u001b[0;36m0\u001b[0m\u001b[0;34m]\u001b[0m \u001b[0;34m=\u001b[0m \u001b[0;34m'x'\u001b[0m\u001b[0;34m\u001b[0m\u001b[0;34m\u001b[0m\u001b[0m\n\u001b[0m",
            "\u001b[0;31mTypeError\u001b[0m: 'str' object does not support item assignment"
          ]
        }
      ]
    },
    {
      "cell_type": "code",
      "metadata": {
        "id": "e1XE6r-PmJUr",
        "outputId": "4fbe3cea-068b-4856-b3da-8027a2793885",
        "colab": {
          "base_uri": "https://localhost:8080/",
          "height": 35
        }
      },
      "source": [
        "# Concatenando strings\n",
        "s + ' é a melhor escola de Ribeirão Pires!'"
      ],
      "execution_count": null,
      "outputs": [
        {
          "output_type": "execute_result",
          "data": {
            "text/plain": [
              "'Etec MCM é a melhor escola de Ribeirão Pires!'"
            ],
            "application/vnd.google.colaboratory.intrinsic+json": {
              "type": "string"
            }
          },
          "metadata": {},
          "execution_count": 63
        }
      ]
    },
    {
      "cell_type": "code",
      "metadata": {
        "id": "h0-H4CimmJUs",
        "outputId": "64bdb4ef-fb5b-4a4f-f24a-8a445c48af48",
        "colab": {
          "base_uri": "https://localhost:8080/",
          "height": 35
        }
      },
      "source": [
        "s"
      ],
      "execution_count": null,
      "outputs": [
        {
          "output_type": "execute_result",
          "data": {
            "text/plain": [
              "'Etec MCM'"
            ],
            "application/vnd.google.colaboratory.intrinsic+json": {
              "type": "string"
            }
          },
          "metadata": {},
          "execution_count": 64
        }
      ]
    },
    {
      "cell_type": "code",
      "metadata": {
        "id": "rUn6rMQ6mJUt"
      },
      "source": [
        "s = s + ' é a melhor escola de Ribeirão Pires!'"
      ],
      "execution_count": null,
      "outputs": []
    },
    {
      "cell_type": "code",
      "metadata": {
        "id": "Wo0TIZAzmJUu",
        "outputId": "a984f897-aed2-48c0-810f-864986d903bd",
        "colab": {
          "base_uri": "https://localhost:8080/"
        }
      },
      "source": [
        "print(s)"
      ],
      "execution_count": null,
      "outputs": [
        {
          "output_type": "stream",
          "name": "stdout",
          "text": [
            "Etec MCM é a melhor escola de Ribeirão Pires!\n"
          ]
        }
      ]
    },
    {
      "cell_type": "code",
      "metadata": {
        "id": "Dh537awnmJUv"
      },
      "source": [
        "# Podemos usar o símbolo de multiplicação para criar repetição!\n",
        "letra = 'g'"
      ],
      "execution_count": null,
      "outputs": []
    },
    {
      "cell_type": "code",
      "metadata": {
        "id": "03qSLdyAmJUv",
        "outputId": "ff3ae4f0-f7c2-4c97-f574-9cdb4daa2575",
        "colab": {
          "base_uri": "https://localhost:8080/",
          "height": 35
        }
      },
      "source": [
        "letra * 3"
      ],
      "execution_count": null,
      "outputs": [
        {
          "output_type": "execute_result",
          "data": {
            "text/plain": [
              "'ggg'"
            ],
            "application/vnd.google.colaboratory.intrinsic+json": {
              "type": "string"
            }
          },
          "metadata": {},
          "execution_count": 72
        }
      ]
    },
    {
      "cell_type": "markdown",
      "metadata": {
        "id": "1aGg66C0mJUw"
      },
      "source": [
        "### Funções Built-in de Strings"
      ]
    },
    {
      "cell_type": "code",
      "metadata": {
        "id": "VEPCwANNmJUw",
        "outputId": "07de8734-8bec-4438-9cb0-16831648fd8b",
        "colab": {
          "base_uri": "https://localhost:8080/",
          "height": 35
        }
      },
      "source": [
        "s"
      ],
      "execution_count": null,
      "outputs": [
        {
          "output_type": "execute_result",
          "data": {
            "text/plain": [
              "'Etec MCM é a melhor escola de Ribeirão Pires!'"
            ],
            "application/vnd.google.colaboratory.intrinsic+json": {
              "type": "string"
            }
          },
          "metadata": {},
          "execution_count": 73
        }
      ]
    },
    {
      "cell_type": "code",
      "metadata": {
        "id": "Vjta7a8dmJUx",
        "outputId": "68a55ebf-f31f-447e-9b4b-b2e0ade3a0ef",
        "colab": {
          "base_uri": "https://localhost:8080/",
          "height": 35
        }
      },
      "source": [
        "# Upper Case\n",
        "s.upper()"
      ],
      "execution_count": null,
      "outputs": [
        {
          "output_type": "execute_result",
          "data": {
            "text/plain": [
              "'ETEC MCM É A MELHOR ESCOLA DE RIBEIRÃO PIRES!'"
            ],
            "application/vnd.google.colaboratory.intrinsic+json": {
              "type": "string"
            }
          },
          "metadata": {},
          "execution_count": 74
        }
      ]
    },
    {
      "cell_type": "code",
      "metadata": {
        "id": "Ys2QUdWWmJUy",
        "outputId": "b345741a-2bac-4f4a-f33e-0313f58b493e",
        "colab": {
          "base_uri": "https://localhost:8080/",
          "height": 35
        }
      },
      "source": [
        "# Lower case\n",
        "s.lower()"
      ],
      "execution_count": null,
      "outputs": [
        {
          "output_type": "execute_result",
          "data": {
            "text/plain": [
              "'etec mcm é a melhor escola de ribeirão pires!'"
            ],
            "application/vnd.google.colaboratory.intrinsic+json": {
              "type": "string"
            }
          },
          "metadata": {},
          "execution_count": 75
        }
      ]
    },
    {
      "cell_type": "code",
      "metadata": {
        "id": "O_02hQ-gmJUy",
        "outputId": "f80b1964-1720-4eff-cbfb-127cf68583c3",
        "colab": {
          "base_uri": "https://localhost:8080/"
        }
      },
      "source": [
        "# Dividir uma string por espaços em branco (padrão)\n",
        "s.split()"
      ],
      "execution_count": null,
      "outputs": [
        {
          "output_type": "execute_result",
          "data": {
            "text/plain": [
              "['Etec', 'MCM', 'é', 'a', 'melhor', 'escola', 'de', 'Ribeirão', 'Pires!']"
            ]
          },
          "metadata": {},
          "execution_count": 76
        }
      ]
    },
    {
      "cell_type": "code",
      "metadata": {
        "id": "uPGn3aFkmJU0",
        "outputId": "45e30a75-d7d9-43ee-fb26-a6bc5ac52c74",
        "colab": {
          "base_uri": "https://localhost:8080/"
        }
      },
      "source": [
        "# Dividir uma string por um elemento específico\n",
        "s.split('é')"
      ],
      "execution_count": null,
      "outputs": [
        {
          "output_type": "execute_result",
          "data": {
            "text/plain": [
              "['seja bem vindo ao universo de python']"
            ]
          },
          "metadata": {},
          "execution_count": 89
        }
      ]
    },
    {
      "cell_type": "markdown",
      "metadata": {
        "id": "n6_T7XjOmJU1"
      },
      "source": [
        "### Funções String"
      ]
    },
    {
      "cell_type": "code",
      "metadata": {
        "id": "vEQkj8uFmJU2"
      },
      "source": [
        "s = 'seja bem vindo ao universo de python'"
      ],
      "execution_count": null,
      "outputs": []
    },
    {
      "cell_type": "code",
      "metadata": {
        "id": "MgsSxjL9mJU2",
        "outputId": "77002ec8-dc0b-403e-d79f-016afa0c155e",
        "colab": {
          "base_uri": "https://localhost:8080/",
          "height": 35
        }
      },
      "source": [
        "s.capitalize()"
      ],
      "execution_count": null,
      "outputs": [
        {
          "output_type": "execute_result",
          "data": {
            "text/plain": [
              "'Seja bem vindo ao universo de python'"
            ],
            "application/vnd.google.colaboratory.intrinsic+json": {
              "type": "string"
            }
          },
          "metadata": {},
          "execution_count": 92
        }
      ]
    },
    {
      "cell_type": "code",
      "metadata": {
        "id": "WDuICSVamJU3",
        "outputId": "28fdc859-fcef-43be-bdaf-5f037b15411b",
        "colab": {
          "base_uri": "https://localhost:8080/"
        }
      },
      "source": [
        "s.count('a')"
      ],
      "execution_count": null,
      "outputs": [
        {
          "output_type": "execute_result",
          "data": {
            "text/plain": [
              "2"
            ]
          },
          "metadata": {},
          "execution_count": 96
        }
      ]
    },
    {
      "cell_type": "code",
      "metadata": {
        "id": "GhnWZV2NmJU4",
        "outputId": "f75897a3-b931-466a-ef5b-40d1290abf3f",
        "colab": {
          "base_uri": "https://localhost:8080/"
        }
      },
      "source": [
        "s.find('p')"
      ],
      "execution_count": null,
      "outputs": [
        {
          "output_type": "execute_result",
          "data": {
            "text/plain": [
              "30"
            ]
          },
          "metadata": {},
          "execution_count": 99
        }
      ]
    },
    {
      "cell_type": "code",
      "metadata": {
        "id": "d1hkLfEqmJU4",
        "outputId": "f4fea864-d080-40c7-d3fe-a3fe7248f35a",
        "colab": {
          "base_uri": "https://localhost:8080/",
          "height": 35
        }
      },
      "source": [
        "s.center(20, 'z')"
      ],
      "execution_count": null,
      "outputs": [
        {
          "output_type": "execute_result",
          "data": {
            "text/plain": [
              "'seja bem vindo ao universo de python'"
            ],
            "application/vnd.google.colaboratory.intrinsic+json": {
              "type": "string"
            }
          },
          "metadata": {},
          "execution_count": 100
        }
      ]
    },
    {
      "cell_type": "code",
      "metadata": {
        "id": "Ty7YmZD1mJU5",
        "outputId": "5e6a6a72-11f2-46c8-98b1-321d9cabe45c",
        "colab": {
          "base_uri": "https://localhost:8080/"
        }
      },
      "source": [
        "s.isalnum()"
      ],
      "execution_count": null,
      "outputs": [
        {
          "output_type": "execute_result",
          "data": {
            "text/plain": [
              "False"
            ]
          },
          "metadata": {},
          "execution_count": 101
        }
      ]
    },
    {
      "cell_type": "code",
      "metadata": {
        "id": "yinQ0geSmJU6",
        "outputId": "1ee2c912-2e9e-4f85-9245-2e2a7a0c8994",
        "colab": {
          "base_uri": "https://localhost:8080/"
        }
      },
      "source": [
        "s.isalpha()"
      ],
      "execution_count": null,
      "outputs": [
        {
          "output_type": "execute_result",
          "data": {
            "text/plain": [
              "False"
            ]
          },
          "metadata": {},
          "execution_count": 102
        }
      ]
    },
    {
      "cell_type": "code",
      "metadata": {
        "id": "1Jkf4ft-mJU7",
        "outputId": "6de9725d-9ff5-4364-baaa-ba2766f6c0e2"
      },
      "source": [
        "s.islower()"
      ],
      "execution_count": null,
      "outputs": [
        {
          "data": {
            "text/plain": [
              "True"
            ]
          },
          "execution_count": 45,
          "metadata": {},
          "output_type": "execute_result"
        }
      ]
    },
    {
      "cell_type": "code",
      "metadata": {
        "id": "weg0q6CSmJU-",
        "outputId": "c7a5b7d1-8251-4503-bf63-14937332d743"
      },
      "source": [
        "s.isspace()"
      ],
      "execution_count": null,
      "outputs": [
        {
          "data": {
            "text/plain": [
              "False"
            ]
          },
          "execution_count": 46,
          "metadata": {},
          "output_type": "execute_result"
        }
      ]
    },
    {
      "cell_type": "code",
      "metadata": {
        "id": "zpng7d-QmJU-",
        "outputId": "e6a41d4d-e66a-4b62-9e8e-03475459ddb9"
      },
      "source": [
        "s.endswith('o')"
      ],
      "execution_count": null,
      "outputs": [
        {
          "data": {
            "text/plain": [
              "False"
            ]
          },
          "execution_count": 47,
          "metadata": {},
          "output_type": "execute_result"
        }
      ]
    },
    {
      "cell_type": "code",
      "metadata": {
        "id": "dSsKI-WWmJU_",
        "outputId": "c1f4c1cf-2422-4dee-a2b7-ba22eec8940c"
      },
      "source": [
        "s.partition('!')"
      ],
      "execution_count": null,
      "outputs": [
        {
          "data": {
            "text/plain": [
              "('seja bem vindo ao universo de python', '', '')"
            ]
          },
          "execution_count": 48,
          "metadata": {},
          "output_type": "execute_result"
        }
      ]
    },
    {
      "cell_type": "markdown",
      "metadata": {
        "id": "khN-snprmJVA"
      },
      "source": [
        "### Comparando Strings"
      ]
    },
    {
      "cell_type": "code",
      "metadata": {
        "id": "7LjfVEs5mJVB",
        "outputId": "9f915464-d2da-4e0b-f995-4ebcfe264338"
      },
      "source": [
        "print(\"Python\" == \"R\")"
      ],
      "execution_count": null,
      "outputs": [
        {
          "name": "stdout",
          "output_type": "stream",
          "text": [
            "False\n"
          ]
        }
      ]
    },
    {
      "cell_type": "code",
      "metadata": {
        "id": "esOmAz0VmJVC",
        "outputId": "f3218b10-755d-4cf3-f8b4-6123f0ff744c"
      },
      "source": [
        "print(\"Python\" == \"Python\")"
      ],
      "execution_count": null,
      "outputs": [
        {
          "name": "stdout",
          "output_type": "stream",
          "text": [
            "True\n"
          ]
        }
      ]
    }
  ]
}